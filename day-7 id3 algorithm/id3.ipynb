{
 "cells": [
  {
   "cell_type": "markdown",
   "metadata": {},
   "source": [
    "# ID3 Algorithm"
   ]
  },
  {
   "cell_type": "markdown",
   "metadata": {},
   "source": [
    "### building decision trees\n",
    "\n",
    "- load_csv(filename): reads in a CSV file and returns the dataset and headers as a tuple.\n",
    "- subtables(data, col, delete): creates subtables for a given column in the dataset.\n",
    "- entropy(S): calculates the entropy of a set of data.\n",
    "- compute_gain(data, col): calculates the information gain for a given column in the dataset.\n",
    "- build_tree(data, features): builds a decision tree using the ID3 algorithm.\n",
    "- print_tree(node, level): prints the decision tree to the console.\n",
    "- classify(node, x_test, features): classifies a test instance using the decision tree."
   ]
  },
  {
   "cell_type": "code",
   "execution_count": 1,
   "metadata": {},
   "outputs": [],
   "source": [
    "import math\n",
    "import csv"
   ]
  },
  {
   "cell_type": "code",
   "execution_count": 2,
   "metadata": {},
   "outputs": [],
   "source": [
    "def load_csv(filename):\n",
    "    lines = csv.reader(open(filename,\"r\"))\n",
    "    dataset = list(lines)\n",
    "    headers = dataset.pop(0)\n",
    "    return dataset,headers"
   ]
  },
  {
   "cell_type": "code",
   "execution_count": 3,
   "metadata": {},
   "outputs": [],
   "source": [
    "class Node:\n",
    "    def __init__(self,attribute):\n",
    "        self.attribute = attribute\n",
    "        self.children = []\n",
    "        self.answer = \"\""
   ]
  },
  {
   "cell_type": "code",
   "execution_count": 4,
   "metadata": {},
   "outputs": [],
   "source": [
    "def subtables(data,col,delete):\n",
    "    dic={}\n",
    "    coldata=[row[col] for row in data]\n",
    "    attr = list(set(coldata))\n",
    "    counts = [0]*len(attr)\n",
    "    r = len(data)\n",
    "    r=len(data)\n",
    "    c=len(data[0])\n",
    "    for x in range(len(attr)):\n",
    "        for y in range(r):\n",
    "            if data[y][col]==attr[x]:\n",
    "                counts[x]+=1\n",
    "\n",
    "    for x in range(len(attr)):\n",
    "        dic[attr[x]]=[[0 for i in range(c)]for j in range(counts[x])]\n",
    "        pos=0\n",
    "        for y in range(r):\n",
    "            if data[y][col]==attr[x]:\n",
    "                if delete:\n",
    "                    del data[y][col]\n",
    "                dic[attr[x]][pos]=data[y]\n",
    "                pos+=1\n",
    "    return attr,dic"
   ]
  },
  {
   "cell_type": "code",
   "execution_count": 5,
   "metadata": {},
   "outputs": [],
   "source": [
    "def entropy(S):\n",
    "    attr = list(set(S))\n",
    "    if len(attr)==1:\n",
    "        return 0\n",
    "    counts = [0,0]\n",
    "    for i in range(2):\n",
    "        counts[i]=sum([1 for x in S if attr[i]==x])/(len(S)*1.0)\n",
    "    sums = 0\n",
    "    for cnt in counts:\n",
    "        sums+=-1*cnt*math.log(cnt,2)\n",
    "    return sums"
   ]
  },
  {
   "cell_type": "code",
   "execution_count": 6,
   "metadata": {},
   "outputs": [],
   "source": [
    "def compute_gain(data,col):\n",
    "    attr,dic=subtables(data,col,delete=False)\n",
    "    total_size=len(data)\n",
    "    entropies=[0]*len(attr)\n",
    "    ratio=[0]*len(attr)\n",
    "    total_entropy=entropy([row[-1] for row in data])\n",
    "    for x in range(len(attr)):\n",
    "        ratio[x]=len(dic[attr[x]])/(total_size*1.0)\n",
    "        entropies[x]=entropy([row[-1] for row in dic[attr[x]]])\n",
    "        total_entropy-=ratio[x]*entropies[x]\n",
    "    return total_entropy"
   ]
  },
  {
   "cell_type": "code",
   "execution_count": 7,
   "metadata": {},
   "outputs": [],
   "source": [
    "def build_tree(data,features):\n",
    "    lastcol=[row[-1] for row in data]\n",
    "    if(len(set(lastcol)))==1:\n",
    "        node=Node(\"\")\n",
    "        node.answer=lastcol[0]\n",
    "        return node\n",
    "    n=len(data[0])-1\n",
    "    gains=[0]*n\n",
    "    for col in range(n):\n",
    "        gains[col]=compute_gain(data,col)\n",
    "    split=gains.index(max(gains))\n",
    "    node=Node(features[split])\n",
    "    fea=features[:split]+features[split+1:]\n",
    "    attr,dic=subtables(data,split,delete=True)\n",
    "    \n",
    "    for x in range(len(attr)):\n",
    "        child=build_tree(dic[attr[x]],fea)\n",
    "        node.children.append((attr[x],child))\n",
    "    return node"
   ]
  },
  {
   "cell_type": "code",
   "execution_count": 8,
   "metadata": {},
   "outputs": [],
   "source": [
    "def print_tree(node,level):\n",
    "    if node.answer!=\"\":\n",
    "        print(\" \"*level,node.answer)\n",
    "        return\n",
    "    print(\" \"*level,node.attribute)\n",
    "    for value,n in node.children:\n",
    "        print(\" \"*(level+1),value)\n",
    "        print_tree(n,level+2)"
   ]
  },
  {
   "cell_type": "code",
   "execution_count": 9,
   "metadata": {},
   "outputs": [],
   "source": [
    "def classify(node,x_test,features):\n",
    "    if node.answer!=\"\":\n",
    "        print(node.answer)\n",
    "        return\n",
    "    pos=features.index(node.attribute)\n",
    "    for value,n in node.children:\n",
    "        if x_test[pos]==value:\n",
    "            classify(n,x_test,features)"
   ]
  },
  {
   "cell_type": "code",
   "execution_count": 10,
   "metadata": {},
   "outputs": [
    {
     "name": "stdout",
     "output_type": "stream",
     "text": [
      "The decision tree for the dataset using ID3 algorithm is \n",
      " Outlook\n",
      "  rain\n",
      "   Wind\n",
      "    weak\n",
      "     yes\n",
      "    strong\n",
      "     no\n",
      "  sunny\n",
      "   Humidity\n",
      "    high\n",
      "     no\n",
      "    normal\n",
      "     yes\n",
      "  overcast\n",
      "   yes\n",
      "The test instance:  ['rain', 'cool', 'normal', 'strong']\n",
      "The label for test instance:  no\n",
      "The test instance:  ['sunny', 'mild', 'normal', 'strong']\n",
      "The label for test instance:  yes\n"
     ]
    }
   ],
   "source": [
    "dataset,features=load_csv(\"id3.csv\")\n",
    "node1=build_tree(dataset,features)\n",
    "\n",
    "print(\"The decision tree for the dataset using ID3 algorithm is \")\n",
    "print_tree(node1,0)\n",
    "testdata,features=load_csv(\"id3_test_1.csv\")\n",
    "for xtest in testdata:\n",
    "    print(\"The test instance: \",xtest)\n",
    "    print(\"The label for test instance: \",end=\" \")\n",
    "    classify(node1,xtest,features)"
   ]
  },
  {
   "cell_type": "markdown",
   "metadata": {},
   "source": []
  },
  {
   "cell_type": "code",
   "execution_count": null,
   "metadata": {},
   "outputs": [],
   "source": []
  }
 ],
 "metadata": {
  "kernelspec": {
   "display_name": "Python 3",
   "language": "python",
   "name": "python3"
  },
  "language_info": {
   "codemirror_mode": {
    "name": "ipython",
    "version": 3
   },
   "file_extension": ".py",
   "mimetype": "text/x-python",
   "name": "python",
   "nbconvert_exporter": "python",
   "pygments_lexer": "ipython3",
   "version": "3.7.3"
  }
 },
 "nbformat": 4,
 "nbformat_minor": 2
}
