{
 "cells": [
  {
   "cell_type": "code",
   "execution_count": 1,
   "metadata": {},
   "outputs": [
    {
     "name": "stdout",
     "output_type": "stream",
     "text": [
      "\n",
      " Learning CPD using Maximum likelihood estimators\n",
      "\n",
      " Inferencing with Bayesian Network:\n",
      "\n",
      " 1. Probability of HeartDisease given Age=60\n",
      "+-----------------+---------------------+\n",
      "| heartdisease    |   phi(heartdisease) |\n",
      "+=================+=====================+\n",
      "| heartdisease(0) |              0.5161 |\n",
      "+-----------------+---------------------+\n",
      "| heartdisease(1) |              0.1765 |\n",
      "+-----------------+---------------------+\n",
      "| heartdisease(2) |              0.1315 |\n",
      "+-----------------+---------------------+\n",
      "| heartdisease(3) |              0.0655 |\n",
      "+-----------------+---------------------+\n",
      "| heartdisease(4) |              0.1104 |\n",
      "+-----------------+---------------------+\n",
      "\n",
      " 2. Probability of HeartDisease given cholesterol=100\n",
      "+-----------------+---------------------+\n",
      "| heartdisease    |   phi(heartdisease) |\n",
      "+=================+=====================+\n",
      "| heartdisease(0) |              0.7350 |\n",
      "+-----------------+---------------------+\n",
      "| heartdisease(1) |              0.2650 |\n",
      "+-----------------+---------------------+\n",
      "| heartdisease(2) |              0.0000 |\n",
      "+-----------------+---------------------+\n",
      "| heartdisease(3) |              0.0000 |\n",
      "+-----------------+---------------------+\n",
      "| heartdisease(4) |              0.0000 |\n",
      "+-----------------+---------------------+\n"
     ]
    },
    {
     "name": "stderr",
     "output_type": "stream",
     "text": [
      "D:\\miniconda\\envs\\allpackages\\lib\\site-packages\\pgmpy\\models\\BayesianModel.py:8: FutureWarning: BayesianModel has been renamed to BayesianNetwork. Please use BayesianNetwork class, BayesianModel will be removed in future.\n",
      "  warnings.warn(\n",
      "D:\\miniconda\\envs\\allpackages\\lib\\site-packages\\pgmpy\\models\\BayesianModel.py:8: FutureWarning: BayesianModel has been renamed to BayesianNetwork. Please use BayesianNetwork class, BayesianModel will be removed in future.\n",
      "  warnings.warn(\n"
     ]
    }
   ],
   "source": [
    "import numpy as np\n",
    "import pandas as pd\n",
    "from pgmpy.models import BayesianModel\n",
    "from pgmpy.estimators import MaximumLikelihoodEstimator\n",
    "from pgmpy.inference import VariableElimination\n",
    "\n",
    "heartDisease = pd.read_csv('heart.csv')\n",
    "heartDisease = heartDisease.replace('?',np.nan)\n",
    "\n",
    "#print('Few examples from the dataset are given below')\n",
    "#print(heartDisease.head())\n",
    "\n",
    "model=BayesianModel([('age','trestbps'),('age','fbs'),\n",
    "                     ('sex','trestbps'),('exang','trestbps'),\n",
    "                     ('trestbps','heartdisease'),('fbs','heartdisease'),\n",
    "                     ('heartdisease','restecg'), \n",
    "                     ('heartdisease','thalach'),('heartdisease','chol')])\n",
    "\n",
    "print('\\n Learning CPD using Maximum likelihood estimators')\n",
    "model.fit(heartDisease,estimator=MaximumLikelihoodEstimator)\n",
    "\n",
    "print('\\n Inferencing with Bayesian Network:')\n",
    "HeartDisease_infer = VariableElimination(model)\n",
    "\n",
    "print('\\n 1. Probability of HeartDisease given Age=60')\n",
    "q=HeartDisease_infer.query(variables=['heartdisease'],evidence={'age':63})\n",
    "print(q)\n",
    "\n",
    "print('\\n 2. Probability of HeartDisease given cholesterol=100')\n",
    "q=HeartDisease_infer.query(variables=['heartdisease'],evidence={'chol':233})\n",
    "print(q)"
   ]
  },
  {
   "cell_type": "code",
   "execution_count": 3,
   "metadata": {},
   "outputs": [
    {
     "name": "stdout",
     "output_type": "stream",
     "text": [
      "+-----------------+---------------------+\n",
      "| heartdisease    |   phi(heartdisease) |\n",
      "+=================+=====================+\n",
      "| heartdisease(0) |              0.5157 |\n",
      "+-----------------+---------------------+\n",
      "| heartdisease(1) |              0.1763 |\n",
      "+-----------------+---------------------+\n",
      "| heartdisease(2) |              0.1318 |\n",
      "+-----------------+---------------------+\n",
      "| heartdisease(3) |              0.0654 |\n",
      "+-----------------+---------------------+\n",
      "| heartdisease(4) |              0.1107 |\n",
      "+-----------------+---------------------+\n"
     ]
    },
    {
     "name": "stderr",
     "output_type": "stream",
     "text": [
      "D:\\miniconda\\envs\\allpackages\\lib\\site-packages\\pgmpy\\models\\BayesianModel.py:8: FutureWarning: BayesianModel has been renamed to BayesianNetwork. Please use BayesianNetwork class, BayesianModel will be removed in future.\n",
      "  warnings.warn(\n",
      "D:\\miniconda\\envs\\allpackages\\lib\\site-packages\\pgmpy\\models\\BayesianModel.py:8: FutureWarning: BayesianModel has been renamed to BayesianNetwork. Please use BayesianNetwork class, BayesianModel will be removed in future.\n",
      "  warnings.warn(\n"
     ]
    }
   ],
   "source": [
    "import pandas as pd\n",
    "import numpy as np\n",
    "heart_disease=pd.read_csv(\"heart.csv\")\n",
    "    \n",
    "from pgmpy.models import BayesianModel\n",
    "from pgmpy.estimators import MaximumLikelihoodEstimator\n",
    "model=BayesianModel([('age','trestbps'), ('age', 'fbs'), ('sex', 'trestbps'), ('exang',\n",
    "'trestbps'),('trestbps','heartdisease'),('fbs','heartdisease'),('heartdisease','restecg'),\n",
    "('heartdisease','thalach'), ('heartdisease','chol')])\n",
    "model.fit(heart_disease, estimator=MaximumLikelihoodEstimator)\n",
    "\n",
    "from pgmpy.inference import VariableElimination\n",
    "HeartDisease_infer = VariableElimination(model)\n",
    "q = HeartDisease_infer.query(variables=['heartdisease'], evidence={'age': 63, 'sex' :1,'trestbps':130})\n",
    "print(q)"
   ]
  },
  {
   "cell_type": "code",
   "execution_count": 6,
   "metadata": {},
   "outputs": [
    {
     "name": "stdout",
     "output_type": "stream",
     "text": [
      "+-----------------+---------------------+\n",
      "| heartdisease    |   phi(heartdisease) |\n",
      "+=================+=====================+\n",
      "| heartdisease(0) |              0.5161 |\n",
      "+-----------------+---------------------+\n",
      "| heartdisease(1) |              0.1765 |\n",
      "+-----------------+---------------------+\n",
      "| heartdisease(2) |              0.1315 |\n",
      "+-----------------+---------------------+\n",
      "| heartdisease(3) |              0.0655 |\n",
      "+-----------------+---------------------+\n",
      "| heartdisease(4) |              0.1104 |\n",
      "+-----------------+---------------------+\n",
      "+-----------------+---------------------+\n",
      "| heartdisease    |   phi(heartdisease) |\n",
      "+=================+=====================+\n",
      "| heartdisease(0) |              0.7350 |\n",
      "+-----------------+---------------------+\n",
      "| heartdisease(1) |              0.2650 |\n",
      "+-----------------+---------------------+\n",
      "| heartdisease(2) |              0.0000 |\n",
      "+-----------------+---------------------+\n",
      "| heartdisease(3) |              0.0000 |\n",
      "+-----------------+---------------------+\n",
      "| heartdisease(4) |              0.0000 |\n",
      "+-----------------+---------------------+\n",
      "+-----------------+---------------------+\n",
      "| heartdisease    |   phi(heartdisease) |\n",
      "+=================+=====================+\n",
      "| heartdisease(0) |              0.6185 |\n",
      "+-----------------+---------------------+\n",
      "| heartdisease(1) |              0.1037 |\n",
      "+-----------------+---------------------+\n",
      "| heartdisease(2) |              0.1519 |\n",
      "+-----------------+---------------------+\n",
      "| heartdisease(3) |              0.1000 |\n",
      "+-----------------+---------------------+\n",
      "| heartdisease(4) |              0.0259 |\n",
      "+-----------------+---------------------+\n"
     ]
    },
    {
     "name": "stderr",
     "output_type": "stream",
     "text": [
      "D:\\miniconda\\envs\\allpackages\\lib\\site-packages\\pgmpy\\models\\BayesianModel.py:8: FutureWarning: BayesianModel has been renamed to BayesianNetwork. Please use BayesianNetwork class, BayesianModel will be removed in future.\n",
      "  warnings.warn(\n",
      "D:\\miniconda\\envs\\allpackages\\lib\\site-packages\\pgmpy\\models\\BayesianModel.py:8: FutureWarning: BayesianModel has been renamed to BayesianNetwork. Please use BayesianNetwork class, BayesianModel will be removed in future.\n",
      "  warnings.warn(\n"
     ]
    }
   ],
   "source": [
    "import numpy as np\n",
    "import pandas as pd\n",
    "from pgmpy.models import BayesianModel\n",
    "from pgmpy.estimators import MaximumLikelihoodEstimator\n",
    "from pgmpy.inference import VariableElimination\n",
    "\n",
    "heart_disease = pd.read_csv('heart.csv')\n",
    "heart_disease = heart_disease.replace('?', np.nan)  # Replace '?' values with NaN\n",
    "# Define the Bayesian network structure\n",
    "model = BayesianModel([\n",
    "    ('age', 'trestbps'), ('age', 'fbs'), ('sex', 'trestbps'), ('exang', 'trestbps'),\n",
    "    ('trestbps', 'heartdisease'), ('fbs', 'heartdisease'), ('heartdisease', 'restecg'),\n",
    "    ('heartdisease', 'thalach'), ('heartdisease', 'chol')\n",
    "]) \n",
    "model.fit(heart_disease, estimator=MaximumLikelihoodEstimator)\n",
    "\n",
    "heart_disease_infer = VariableElimination(model)  # Perform inference with Bayesian Network\n",
    "\n",
    "# Calculate probability of Heart Disease given Age=63\n",
    "q = heart_disease_infer.query(variables=['heartdisease'], evidence={'age': 63})\n",
    "print(q)\n",
    "\n",
    "# Calculate probability of Heart Disease given cholesterol=233\n",
    "q = heart_disease_infer.query(variables=['heartdisease'], evidence={'chol': 233})\n",
    "print(q)\n",
    "\n",
    "# Calculate probability of Heart Disease given age = 63 , sex = 1 and trestbps = 130\n",
    "q = HeartDisease_infer.query(variables=['heartdisease'], evidence={'age': 63, 'sex' :1,'trestbps':130})\n",
    "print(q)"
   ]
  },
  {
   "cell_type": "code",
   "execution_count": 7,
   "metadata": {},
   "outputs": [
    {
     "name": "stdout",
     "output_type": "stream",
     "text": [
      "+-----------------+---------------------+\n",
      "| heartdisease    |   phi(heartdisease) |\n",
      "+=================+=====================+\n",
      "| heartdisease(0) |              0.5161 |\n",
      "+-----------------+---------------------+\n",
      "| heartdisease(1) |              0.1765 |\n",
      "+-----------------+---------------------+\n",
      "| heartdisease(2) |              0.1315 |\n",
      "+-----------------+---------------------+\n",
      "| heartdisease(3) |              0.0655 |\n",
      "+-----------------+---------------------+\n",
      "| heartdisease(4) |              0.1104 |\n",
      "+-----------------+---------------------+\n",
      "+-----------------+---------------------+\n",
      "| heartdisease    |   phi(heartdisease) |\n",
      "+=================+=====================+\n",
      "| heartdisease(0) |              0.7350 |\n",
      "+-----------------+---------------------+\n",
      "| heartdisease(1) |              0.2650 |\n",
      "+-----------------+---------------------+\n",
      "| heartdisease(2) |              0.0000 |\n",
      "+-----------------+---------------------+\n",
      "| heartdisease(3) |              0.0000 |\n",
      "+-----------------+---------------------+\n",
      "| heartdisease(4) |              0.0000 |\n",
      "+-----------------+---------------------+\n",
      "+-----------------+---------------------+\n",
      "| heartdisease    |   phi(heartdisease) |\n",
      "+=================+=====================+\n",
      "| heartdisease(0) |              0.6185 |\n",
      "+-----------------+---------------------+\n",
      "| heartdisease(1) |              0.1037 |\n",
      "+-----------------+---------------------+\n",
      "| heartdisease(2) |              0.1519 |\n",
      "+-----------------+---------------------+\n",
      "| heartdisease(3) |              0.1000 |\n",
      "+-----------------+---------------------+\n",
      "| heartdisease(4) |              0.0259 |\n",
      "+-----------------+---------------------+\n"
     ]
    },
    {
     "name": "stderr",
     "output_type": "stream",
     "text": [
      "D:\\miniconda\\envs\\allpackages\\lib\\site-packages\\pgmpy\\models\\BayesianModel.py:8: FutureWarning: BayesianModel has been renamed to BayesianNetwork. Please use BayesianNetwork class, BayesianModel will be removed in future.\n",
      "  warnings.warn(\n",
      "D:\\miniconda\\envs\\allpackages\\lib\\site-packages\\pgmpy\\models\\BayesianModel.py:8: FutureWarning: BayesianModel has been renamed to BayesianNetwork. Please use BayesianNetwork class, BayesianModel will be removed in future.\n",
      "  warnings.warn(\n"
     ]
    }
   ],
   "source": [
    "import numpy as np\n",
    "import pandas as pd\n",
    "from pgmpy.models import BayesianModel\n",
    "from pgmpy.estimators import MaximumLikelihoodEstimator\n",
    "from pgmpy.inference import VariableElimination\n",
    "\n",
    "heart_disease = pd.read_csv('heart.csv')\n",
    "heart_disease = heart_disease.replace('?', np.nan)\n",
    "\n",
    "# Define the Bayesian network structure\n",
    "model = BayesianModel([\n",
    "    ('age', 'trestbps'), ('age', 'fbs'), ('sex', 'trestbps'), ('exang', 'trestbps'),\n",
    "    ('trestbps', 'heartdisease'), ('fbs', 'heartdisease'), ('heartdisease', 'restecg'),\n",
    "    ('heartdisease', 'thalach'), ('heartdisease', 'chol')\n",
    "]) \n",
    "model.fit(heart_disease, estimator=MaximumLikelihoodEstimator)\n",
    "\n",
    "# Perform inference with Bayesian Network\n",
    "heart_disease_infer = VariableElimination(model)  \n",
    "\n",
    "# Calculate probability of Heart Disease given Age=63\n",
    "q = heart_disease_infer.query(variables=['heartdisease'], evidence={'age': 63})\n",
    "print(q)\n",
    "\n",
    "q = heart_disease_infer.query(variables=['heartdisease'], evidence={'chol': 233})  # cholesterol\n",
    "print(q)\n",
    "\n",
    "q = HeartDisease_infer.query(variables=['heartdisease'], evidence={'age': 63, 'sex' :1,'trestbps':130})\n",
    "print(q)"
   ]
  },
  {
   "cell_type": "code",
   "execution_count": null,
   "metadata": {},
   "outputs": [],
   "source": []
  }
 ],
 "metadata": {
  "kernelspec": {
   "display_name": "Python 3 (ipykernel)",
   "language": "python",
   "name": "python3"
  },
  "language_info": {
   "codemirror_mode": {
    "name": "ipython",
    "version": 3
   },
   "file_extension": ".py",
   "mimetype": "text/x-python",
   "name": "python",
   "nbconvert_exporter": "python",
   "pygments_lexer": "ipython3",
   "version": "3.9.16"
  },
  "varInspector": {
   "cols": {
    "lenName": 16,
    "lenType": 16,
    "lenVar": 40
   },
   "kernels_config": {
    "python": {
     "delete_cmd_postfix": "",
     "delete_cmd_prefix": "del ",
     "library": "var_list.py",
     "varRefreshCmd": "print(var_dic_list())"
    },
    "r": {
     "delete_cmd_postfix": ") ",
     "delete_cmd_prefix": "rm(",
     "library": "var_list.r",
     "varRefreshCmd": "cat(var_dic_list()) "
    }
   },
   "types_to_exclude": [
    "module",
    "function",
    "builtin_function_or_method",
    "instance",
    "_Feature"
   ],
   "window_display": false
  }
 },
 "nbformat": 4,
 "nbformat_minor": 2
}
