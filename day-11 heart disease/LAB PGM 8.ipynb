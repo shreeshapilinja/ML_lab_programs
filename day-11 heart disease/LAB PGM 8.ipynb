{
 "cells": [
  {
   "cell_type": "code",
   "execution_count": 42,
   "metadata": {},
   "outputs": [],
   "source": [
    "import numpy as np\n",
    "import pandas as pd\n",
    "from pgmpy.models import BayesianModel\n",
    "from pgmpy.estimators import MaximumLikelihoodEstimator\n",
    "from pgmpy.inference import VariableElimination"
   ]
  },
  {
   "cell_type": "code",
   "execution_count": 43,
   "metadata": {},
   "outputs": [],
   "source": [
    "heartDisease = pd.read_csv('heart.csv')\n",
    "heartDisease = heartDisease.replace('?',np.nan)"
   ]
  },
  {
   "cell_type": "code",
   "execution_count": 44,
   "metadata": {},
   "outputs": [
    {
     "name": "stdout",
     "output_type": "stream",
     "text": [
      "Few examples from the dataset are given below\n",
      "   age  sex  cp  trestbps  chol  fbs  restecg  thalach  exang  oldpeak  slope  \\\n",
      "0   63    1   1       145   233    1        2      150      0      2.3      3   \n",
      "1   67    1   4       160   286    0        2      108      1      1.5      2   \n",
      "2   67    1   4       120   229    0        2      129      1      2.6      2   \n",
      "3   37    1   3       130   250    0        0      187      0      3.5      3   \n",
      "4   41    0   2       130   204    0        2      172      0      1.4      1   \n",
      "\n",
      "  ca thal  heartdisease  \n",
      "0  0    6             0  \n",
      "1  3    3             2  \n",
      "2  2    7             1  \n",
      "3  0    3             0  \n",
      "4  0    3             0  \n"
     ]
    }
   ],
   "source": [
    "print('Few examples from the dataset are given below')\n",
    "print(heartDisease.head())"
   ]
  },
  {
   "cell_type": "code",
   "execution_count": 45,
   "metadata": {},
   "outputs": [],
   "source": [
    "model=BayesianModel([('age','trestbps'),('age','fbs'),\n",
    "                     ('sex','trestbps'),('exang','trestbps'),\n",
    "                     ('trestbps','heartdisease'),('fbs','heartdisease'),\n",
    "                     ('heartdisease','restecg'), \n",
    "                     ('heartdisease','thalach'),('heartdisease','chol')])"
   ]
  },
  {
   "cell_type": "code",
   "execution_count": 46,
   "metadata": {},
   "outputs": [
    {
     "name": "stdout",
     "output_type": "stream",
     "text": [
      "\n",
      " Learning CPD using Maximum likelihood estimators\n"
     ]
    }
   ],
   "source": [
    "print('\\n Learning CPD using Maximum likelihood estimators')\n",
    "model.fit(heartDisease,estimator=MaximumLikelihoodEstimator)"
   ]
  },
  {
   "cell_type": "code",
   "execution_count": 47,
   "metadata": {},
   "outputs": [
    {
     "name": "stdout",
     "output_type": "stream",
     "text": [
      "\n",
      " Inferencing with Bayesian Network:\n"
     ]
    }
   ],
   "source": [
    "print('\\n Inferencing with Bayesian Network:')\n",
    "HeartDisease_infer = VariableElimination(model)"
   ]
  },
  {
   "cell_type": "code",
   "execution_count": 48,
   "metadata": {},
   "outputs": [
    {
     "name": "stdout",
     "output_type": "stream",
     "text": [
      "\n",
      " 1. Probability of HeartDisease given Age=60\n",
      "+-----------------+---------------------+\n",
      "| heartdisease    |   phi(heartdisease) |\n",
      "+=================+=====================+\n",
      "| heartdisease(0) |              0.5161 |\n",
      "+-----------------+---------------------+\n",
      "| heartdisease(1) |              0.1765 |\n",
      "+-----------------+---------------------+\n",
      "| heartdisease(2) |              0.1315 |\n",
      "+-----------------+---------------------+\n",
      "| heartdisease(3) |              0.0655 |\n",
      "+-----------------+---------------------+\n",
      "| heartdisease(4) |              0.1104 |\n",
      "+-----------------+---------------------+\n"
     ]
    }
   ],
   "source": [
    "print('\\n 1. Probability of HeartDisease given Age=60')\n",
    "q=HeartDisease_infer.query(variables=['heartdisease'],evidence={'age':63})\n",
    "print(q)"
   ]
  },
  {
   "cell_type": "code",
   "execution_count": 49,
   "metadata": {},
   "outputs": [
    {
     "name": "stdout",
     "output_type": "stream",
     "text": [
      "\n",
      " 2. Probability of HeartDisease given cholesterol=100\n",
      "+-----------------+---------------------+\n",
      "| heartdisease    |   phi(heartdisease) |\n",
      "+=================+=====================+\n",
      "| heartdisease(0) |              0.7350 |\n",
      "+-----------------+---------------------+\n",
      "| heartdisease(1) |              0.2650 |\n",
      "+-----------------+---------------------+\n",
      "| heartdisease(2) |              0.0000 |\n",
      "+-----------------+---------------------+\n",
      "| heartdisease(3) |              0.0000 |\n",
      "+-----------------+---------------------+\n",
      "| heartdisease(4) |              0.0000 |\n",
      "+-----------------+---------------------+\n"
     ]
    }
   ],
   "source": [
    "print('\\n 2. Probability of HeartDisease given cholesterol=100')\n",
    "q=HeartDisease_infer.query(variables=['heartdisease'],evidence={'chol':233})\n",
    "print(q)"
   ]
  },
  {
   "cell_type": "code",
   "execution_count": null,
   "metadata": {},
   "outputs": [],
   "source": []
  }
 ],
 "metadata": {
  "kernelspec": {
   "display_name": "Python 3",
   "language": "python",
   "name": "python3"
  },
  "language_info": {
   "codemirror_mode": {
    "name": "ipython",
    "version": 3
   },
   "file_extension": ".py",
   "mimetype": "text/x-python",
   "name": "python",
   "nbconvert_exporter": "python",
   "pygments_lexer": "ipython3",
   "version": "3.7.3"
  }
 },
 "nbformat": 4,
 "nbformat_minor": 2
}
