{
 "cells": [
  {
   "cell_type": "code",
   "execution_count": 17,
   "metadata": {
    "scrolled": true
   },
   "outputs": [],
   "source": [
    "import pandas as pd\n",
    "data = pd.read_csv('SocialNetworkAds.csv')\n",
    "X = data.iloc[:,:-1].values\n",
    "y = data.iloc[:,-1].values\n",
    "\n",
    "from sklearn.model_selection import train_test_split\n",
    "Xtrain,Xtest,ytrain,ytest = train_test_split(X,y,test_size=0.3,random_state=42)"
   ]
  },
  {
   "cell_type": "code",
   "execution_count": 18,
   "metadata": {},
   "outputs": [],
   "source": [
    "from sklearn.preprocessing import StandardScaler\n",
    "s = StandardScaler()\n",
    "Xtrain = s.fit_transform(Xtrain)\n",
    "Xtest = s.transform(Xtest)"
   ]
  },
  {
   "cell_type": "code",
   "execution_count": 19,
   "metadata": {
    "scrolled": true
   },
   "outputs": [
    {
     "name": "stdout",
     "output_type": "stream",
     "text": [
      "0.9416666666666667\n",
      "[[68  5]\n",
      " [ 2 45]]\n"
     ]
    }
   ],
   "source": [
    "from sklearn.svm import SVC\n",
    "sc = SVC().fit(Xtrain,ytrain)\n",
    "ypred = sc.predict(Xtest)\n",
    "\n",
    "from sklearn.metrics import accuracy_score,confusion_matrix\n",
    "print(accuracy_score(ytest,ypred))\n",
    "print(confusion_matrix(ytest,ypred))"
   ]
  },
  {
   "cell_type": "code",
   "execution_count": 20,
   "metadata": {},
   "outputs": [
    {
     "name": "stdout",
     "output_type": "stream",
     "text": [
      "SVC rbf\n",
      "0.9416666666666667\n",
      "[[68  5]\n",
      " [ 2 45]]\n"
     ]
    }
   ],
   "source": [
    "print(\"SVC rbf\")\n",
    "from sklearn.svm import SVC\n",
    "sc = SVC(kernel='rbf',random_state=0).fit(Xtrain,ytrain)\n",
    "ypred = sc.predict(Xtest)\n",
    "\n",
    "from sklearn.metrics import accuracy_score,confusion_matrix\n",
    "print(accuracy_score(ytest,ypred))\n",
    "print(confusion_matrix(ytest,ypred))"
   ]
  },
  {
   "cell_type": "code",
   "execution_count": 21,
   "metadata": {},
   "outputs": [
    {
     "name": "stdout",
     "output_type": "stream",
     "text": [
      "LogisticRegression 0.85\n",
      "RandomForestClassifier 0.9083333333333333\n",
      "SVC 0.9416666666666667\n",
      "KNeighborsClassifier 0.9333333333333333\n",
      "GaussianNB 0.925\n",
      "DecisionTreeClassifier 0.8333333333333334\n",
      "VotingClassifier 0.9083333333333333\n"
     ]
    }
   ],
   "source": [
    "# some classifiers taken for comparition\n",
    "from sklearn.ensemble import RandomForestClassifier\n",
    "from sklearn.linear_model import LogisticRegression\n",
    "from sklearn.svm import SVC\n",
    "from sklearn.neighbors import KNeighborsClassifier\n",
    "from sklearn.naive_bayes import GaussianNB\n",
    "from sklearn.tree import DecisionTreeClassifier\n",
    "\n",
    "neighclf = KNeighborsClassifier(n_neighbors=5)\n",
    "log_clf = LogisticRegression()\n",
    "rnd_clf = RandomForestClassifier()\n",
    "svm_clf = SVC()\n",
    "gc = GaussianNB()\n",
    "dtc = DecisionTreeClassifier()\n",
    "\n",
    "# apply Voting to get the best one\n",
    "from sklearn.ensemble import VotingClassifier\n",
    "voting_clf = VotingClassifier(estimators=[('lr',log_clf),('rf',rnd_clf),('svm',svm_clf),('knn',neighclf),('gausian',gc),('desitiontree',dtc)],voting='hard')\n",
    "voting_clf.fit(Xtrain,ytrain)\n",
    "\n",
    "from sklearn.metrics import accuracy_score\n",
    "for clf in (log_clf,rnd_clf,svm_clf,neighclf,gc,dtc,voting_clf):\n",
    "    clf.fit(Xtrain,ytrain)\n",
    "    y_pred = clf.predict(Xtest)\n",
    "    print(clf.__class__.__name__,accuracy_score(ytest,y_pred))"
   ]
  },
  {
   "cell_type": "code",
   "execution_count": 22,
   "metadata": {},
   "outputs": [
    {
     "name": "stdout",
     "output_type": "stream",
     "text": [
      "SVC linear\n",
      "0.85\n",
      "[[72  1]\n",
      " [17 30]]\n"
     ]
    }
   ],
   "source": [
    "print(\"SVC linear\")\n",
    "from sklearn.svm import SVC\n",
    "sc = SVC(kernel='linear',random_state=0).fit(Xtrain,ytrain)\n",
    "ypred = sc.predict(Xtest)\n",
    "\n",
    "from sklearn.metrics import accuracy_score,confusion_matrix\n",
    "print(accuracy_score(ytest,ypred))\n",
    "print(confusion_matrix(ytest,ypred))"
   ]
  },
  {
   "cell_type": "code",
   "execution_count": 23,
   "metadata": {},
   "outputs": [
    {
     "name": "stdout",
     "output_type": "stream",
     "text": [
      "KNeighborsClassifier\n",
      "0.85\n",
      "[[72  1]\n",
      " [17 30]]\n"
     ]
    }
   ],
   "source": [
    "print(\"KNeighborsClassifier\")\n",
    "from sklearn.neighbors import KNeighborsClassifier\n",
    "neigh = KNeighborsClassifier(n_neighbors=5,n_jobs=-1)\n",
    "neigh.fit(Xtrain,ytrain)\n",
    "neigh = neigh.predict(Xtest)\n",
    "from sklearn.metrics import accuracy_score,confusion_matrix\n",
    "print(accuracy_score(ytest,ypred))\n",
    "print(confusion_matrix(ytest,ypred))"
   ]
  },
  {
   "cell_type": "code",
   "execution_count": 24,
   "metadata": {},
   "outputs": [],
   "source": [
    "from sklearn.metrics import accuracy_score, confusion_matrix , mean_squared_error , r2_score"
   ]
  },
  {
   "cell_type": "code",
   "execution_count": 25,
   "metadata": {},
   "outputs": [
    {
     "name": "stdout",
     "output_type": "stream",
     "text": [
      "GaussianNB\n",
      "0.925\n"
     ]
    }
   ],
   "source": [
    "print(\"GaussianNB\")\n",
    "from sklearn.naive_bayes import GaussianNB\n",
    "gaussianmodel = GaussianNB().fit(Xtrain, ytrain)\n",
    "gaussianmodelpred = gaussianmodel.predict(Xtest)\n",
    "print(accuracy_score(ytest, gaussianmodelpred))"
   ]
  },
  {
   "cell_type": "code",
   "execution_count": 26,
   "metadata": {},
   "outputs": [
    {
     "name": "stdout",
     "output_type": "stream",
     "text": [
      "KNeighborsClassifier\n",
      "0.925\n"
     ]
    }
   ],
   "source": [
    "print(\"KNeighborsClassifier\")\n",
    "from sklearn.neighbors import KNeighborsClassifier\n",
    "kclassifier = KNeighborsClassifier(n_neighbors=3).fit(Xtrain, ytrain)\n",
    "kpredict = kclassifier.predict(Xtest)\n",
    "print(accuracy_score(ytest, kpredict))"
   ]
  },
  {
   "cell_type": "code",
   "execution_count": 27,
   "metadata": {},
   "outputs": [
    {
     "name": "stdout",
     "output_type": "stream",
     "text": [
      "RandomForestClassifier\n",
      "0.9083333333333333\n"
     ]
    }
   ],
   "source": [
    "print(\"RandomForestClassifier\")\n",
    "from sklearn.ensemble import RandomForestClassifier\n",
    "randomforestclassifier = RandomForestClassifier().fit(Xtrain, ytrain)\n",
    "rfcpred = randomforestclassifier.predict(Xtest)\n",
    "print(accuracy_score(ytest, rfcpred))"
   ]
  },
  {
   "cell_type": "code",
   "execution_count": 28,
   "metadata": {},
   "outputs": [
    {
     "name": "stdout",
     "output_type": "stream",
     "text": [
      "SGDClassifier\n",
      "0.8083333333333333\n"
     ]
    }
   ],
   "source": [
    "print(\"SGDClassifier\")\n",
    "from sklearn.linear_model import SGDClassifier\n",
    "sgdclassifier = SGDClassifier().fit(Xtrain, ytrain)\n",
    "sgdcpred = sgdclassifier.predict(Xtest)\n",
    "print(accuracy_score(ytest, sgdcpred))"
   ]
  },
  {
   "cell_type": "code",
   "execution_count": 29,
   "metadata": {},
   "outputs": [
    {
     "name": "stdout",
     "output_type": "stream",
     "text": [
      "LogisticRegression\n",
      "0.85\n"
     ]
    }
   ],
   "source": [
    "print(\"LogisticRegression\")\n",
    "from sklearn.linear_model import LogisticRegression\n",
    "logisticregression = LogisticRegression().fit(Xtrain, ytrain)\n",
    "logisticregressionpred = logisticregression.predict(Xtest)\n",
    "print(accuracy_score(ytest, logisticregressionpred))"
   ]
  },
  {
   "cell_type": "code",
   "execution_count": 30,
   "metadata": {},
   "outputs": [
    {
     "name": "stdout",
     "output_type": "stream",
     "text": [
      "SVM - SVM (Support Vector Machine) Classification\n",
      "[[68  2]\n",
      " [ 5 45]]\n",
      "0.9416666666666667\n"
     ]
    }
   ],
   "source": [
    "print(\"SVM - SVM (Support Vector Machine) Classification\")\n",
    "from sklearn.svm import SVC\n",
    "svmclassifier = SVC().fit(Xtrain,ytrain)\n",
    "svmpred = svmclassifier.predict(Xtest)\n",
    "print(confusion_matrix(svmpred,ytest))  \n",
    "print(accuracy_score(svmpred,ytest))"
   ]
  },
  {
   "cell_type": "code",
   "execution_count": 31,
   "metadata": {},
   "outputs": [
    {
     "name": "stdout",
     "output_type": "stream",
     "text": [
      "SVR - SVM (Support Vector Machine) Regression\n",
      "0.04890167354382361\n",
      "0.7605399035566891\n"
     ]
    }
   ],
   "source": [
    "print(\"SVR - SVM (Support Vector Machine) Regression\")\n",
    "from sklearn.svm import SVR\n",
    "svmregressor = SVR().fit(Xtrain,ytrain)\n",
    "svrpred = svmregressor.predict(Xtest)\n",
    "print(mean_squared_error(svrpred,ytest))  \n",
    "print(r2_score(svrpred,ytest))"
   ]
  },
  {
   "cell_type": "code",
   "execution_count": 32,
   "metadata": {},
   "outputs": [
    {
     "name": "stdout",
     "output_type": "stream",
     "text": [
      "DecisionTreeClassifier\n",
      "[[64 10]\n",
      " [ 9 37]]\n",
      "0.8416666666666667\n"
     ]
    }
   ],
   "source": [
    "print(\"DecisionTreeClassifier\")\n",
    "from sklearn.tree import DecisionTreeClassifier\n",
    "dtclassifier = DecisionTreeClassifier().fit(Xtrain,ytrain)\n",
    "dtpred = dtclassifier.predict(Xtest)\n",
    "print(confusion_matrix(dtpred,ytest))  \n",
    "print(accuracy_score(dtpred,ytest))"
   ]
  },
  {
   "cell_type": "code",
   "execution_count": 33,
   "metadata": {},
   "outputs": [
    {
     "name": "stdout",
     "output_type": "stream",
     "text": [
      "DecisionTreeRegressor\n",
      "0.16666666666666666\n",
      "0.28888888888888886\n"
     ]
    }
   ],
   "source": [
    "print(\"DecisionTreeRegressor\")\n",
    "from sklearn.tree import DecisionTreeRegressor\n",
    "dtregressor = DecisionTreeRegressor().fit(Xtrain,ytrain)\n",
    "dtrpred = dtregressor.predict(Xtest)\n",
    "print(mean_squared_error(dtrpred,ytest))  \n",
    "print(r2_score(dtrpred,ytest))"
   ]
  },
  {
   "cell_type": "code",
   "execution_count": 34,
   "metadata": {},
   "outputs": [
    {
     "name": "stdout",
     "output_type": "stream",
     "text": [
      "Bagging Classifier\n",
      "[[66  8]\n",
      " [ 7 39]]\n",
      "0.875\n"
     ]
    }
   ],
   "source": [
    "print(\"Bagging Classifier\")\n",
    "from sklearn.ensemble import BaggingClassifier\n",
    "bg_classifier = BaggingClassifier().fit(Xtrain, ytrain)\n",
    "bg_classifier_pred = bg_classifier.predict(Xtest)\n",
    "print(confusion_matrix(bg_classifier_pred, ytest))\n",
    "print(accuracy_score(bg_classifier_pred, ytest))"
   ]
  },
  {
   "cell_type": "code",
   "execution_count": 35,
   "metadata": {},
   "outputs": [
    {
     "name": "stdout",
     "output_type": "stream",
     "text": [
      "LogisticRegression 0.85\n",
      "RandomForestClassifier 0.9083333333333333\n",
      "SVC 0.9416666666666667\n",
      "KNeighborsClassifier 0.9333333333333333\n",
      "GaussianNB 0.925\n",
      "DecisionTreeClassifier 0.8416666666666667\n",
      "VotingClassifier 0.9083333333333333\n"
     ]
    }
   ],
   "source": [
    "# some classifiers taken for comparition\n",
    "from sklearn.ensemble import RandomForestClassifier\n",
    "from sklearn.linear_model import LogisticRegression\n",
    "from sklearn.svm import SVC\n",
    "from sklearn.neighbors import KNeighborsClassifier\n",
    "from sklearn.naive_bayes import GaussianNB\n",
    "from sklearn.tree import DecisionTreeClassifier\n",
    "\n",
    "neighclf = KNeighborsClassifier(n_neighbors=5)\n",
    "log_clf = LogisticRegression()\n",
    "rnd_clf = RandomForestClassifier()\n",
    "svm_clf = SVC()\n",
    "gc = GaussianNB()\n",
    "dtc = DecisionTreeClassifier()\n",
    "\n",
    "# apply Voting to get the best one\n",
    "from sklearn.ensemble import VotingClassifier\n",
    "voting_clf = VotingClassifier(estimators=[('lr',log_clf),('rf',rnd_clf),('svm',svm_clf),('knn',neighclf),('gausian',gc),('desitiontree',dtc)],voting='hard')\n",
    "voting_clf.fit(Xtrain,ytrain)\n",
    "\n",
    "from sklearn.metrics import accuracy_score\n",
    "for clf in (log_clf,rnd_clf,svm_clf,neighclf,gc,dtc,voting_clf):\n",
    "    clf.fit(Xtrain,ytrain)\n",
    "    y_pred = clf.predict(Xtest)\n",
    "    print(clf.__class__.__name__,accuracy_score(ytest,y_pred))"
   ]
  },
  {
   "cell_type": "code",
   "execution_count": 36,
   "metadata": {},
   "outputs": [
    {
     "name": "stdout",
     "output_type": "stream",
     "text": [
      "BaggingClassifier 0.9416666666666667\n"
     ]
    }
   ],
   "source": [
    "# Bagging Classifier for DecisionTreeClassifier\n",
    "\n",
    "from sklearn.ensemble import BaggingClassifier\n",
    "from sklearn.tree import DecisionTreeClassifier\n",
    "\n",
    "bag_clf = BaggingClassifier(\n",
    "DecisionTreeClassifier(),n_estimators=500,max_samples=10,bootstrap=True,n_jobs=-1)\n",
    "bag_clf.fit(Xtrain,ytrain)\n",
    "y_pred = bag_clf.predict(Xtest)\n",
    "print(bag_clf.__class__.__name__,accuracy_score(ytest,y_pred))"
   ]
  },
  {
   "cell_type": "code",
   "execution_count": null,
   "metadata": {},
   "outputs": [],
   "source": []
  }
 ],
 "metadata": {
  "kernelspec": {
   "display_name": "Python 3",
   "language": "python",
   "name": "python3"
  },
  "language_info": {
   "codemirror_mode": {
    "name": "ipython",
    "version": 3
   },
   "file_extension": ".py",
   "mimetype": "text/x-python",
   "name": "python",
   "nbconvert_exporter": "python",
   "pygments_lexer": "ipython3",
   "version": "3.7.3"
  }
 },
 "nbformat": 4,
 "nbformat_minor": 2
}
